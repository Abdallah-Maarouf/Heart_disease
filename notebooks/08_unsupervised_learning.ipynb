{
    "cells": [
        {
            "cell_type": "markdown",
            "metadata": {},
            "source": [
                "# Unsupervised Learning Analysis - Heart Disease Dataset\n",
                "\n",
                "This notebook demonstrates comprehensive unsupervised learning analysis using K-Means and Hierarchical clustering algorithms on the heart disease dataset.\n",
                "\n",
                "## Objectives:\n",
                "1. Perform K-Means clustering with optimal K selection\n",
                "2. Apply Hierarchical clustering with dendrogram analysis\n",
                "3. Evaluate clustering performance using multiple metrics\n",
                "4. Compare clustering results with true labels\n",
                "5. Visualize clustering patterns and relationships"
            ]
        },
        {
            "cell_type": "code",
            "execution_count": null,
            "metadata": {},
            "outputs": [],
            "source": [
                "# Import required libraries\n",
                "import sys\n",
                "import os\n",
                "sys.path.append('../src')\n",
                "\n",
                "import numpy as np\n",
                "import pandas as pd\n",
                "import matplotlib.pyplot as plt\n",
                "import seaborn as sns\n",
                "from clustering_analyzer import ClusteringAnalyzer\n",
                "\n",
                "# Set style for better visualizations\n",
                "plt.style.use('default')\n",
                "sns.set_palette(\"husl\")\n",
                "\n",
                "# Configure display options\n",
                "pd.set_option('display.max_columns', None)\n",
                "pd.set_option('display.width', None)\n",
                "\n",
                "print(\"Libraries imported successfully!\")"
            ]
        },
        {
            "cell_type": "markdown",
            "metadata": {},
            "source": [
                "## 1. Data Loading and Preparation"
            ]
        },
        {
            "cell_type": "code",
            "execution_count": null,
            "metadata": {},
            "outputs": [],
            "source": [
                "# Initialize clustering analyzer\n",
                "analyzer = ClusteringAnalyzer(random_state=42)\n",
                "\n",
                "# Load datasets\n",
                "pca_data, cleaned_data = analyzer.load_data(\n",
                "    '../data/processed/heart_disease_pca.csv',\n",
                "    '../data/processed/heart_disease_cleaned.csv'\n",
                ")\n",
                "\n",
                "print(\"\\nPCA Data Info:\")\n",
                "print(pca_data.info())\n",
                "print(\"\\nCleaned Data Info:\")\n",
                "print(cleaned_data.info())"
            ]
        },
        {
            "cell_type": "code",
            "execution_count": null,
            "metadata": {},
            "outputs": [],
            "source": [
                "# Prepare data for clustering\n",
                "X_pca, y_true = analyzer.prepare_clustering_data(pca_data, use_pca=True)\n",
                "X_original, _ = analyzer.prepare_clustering_data(cleaned_data, use_pca=False)\n",
                "\n",
                "print(f\"PCA features shape: {X_pca.shape}\")\n",
                "print(f\"Original features shape: {X_original.shape}\")\n",
                "print(f\"Target distribution: {np.bincount(y_true)}\")\n",
                "print(f\"Target classes: {np.unique(y_true)}\")"
            ]
        },
        {
            "cell_type": "markdown",
            "metadata": {},
            "source": [
                "## 2. K-Means Clustering Analysis"
            ]
        },
        {
            "cell_type": "code",
            "execution_count": null,
            "metadata": {},
            "outputs": [],
            "source": [
                "# Perform K-Means clustering with elbow method\n",
                "print(\"Performing K-Means clustering analysis...\")\n",
                "kmeans_results = analyzer.kmeans_clustering(X_pca, k_range=(2, 8))\n",
                "\n",
                "# Display results\n",
                "print(f\"\\nOptimal K (Elbow Method): {kmeans_results['optimal_k_elbow']}\")\n",
                "print(f\"Optimal K (Silhouette): {kmeans_results['optimal_k_silhouette']}\")\n",
                "\n",
                "# Show silhouette scores for different K values\n",
                "results_df = pd.DataFrame({\n",
                "    'K': kmeans_results['k_values'],\n",
                "    'Inertia': kmeans_results['inertias'],\n",
                "    'Silhouette_Score': kmeans_results['silhouette_scores']\n",
                "})\n",
                "\n",
                "print(\"\\nK-Means Results Summary:\")\n",
                "print(results_df)"
            ]
        },
        {
            "cell_type": "code",
            "execution_count": null,
            "metadata": {},
            "outputs": [],
            "source": [
                "# Plot elbow curve\n",
                "analyzer.plot_elbow_curve(kmeans_results)"
            ]
        },
        {
            "cell_type": "code",
            "execution_count": null,
            "metadata": {},
            "outputs": [],
            "source": [
                "# Get predictions from best K-Means model\n",
                "best_kmeans = kmeans_results['best_model']\n",
                "kmeans_labels = best_kmeans.predict(X_pca)\n",
                "\n",
                "# Evaluate K-Means clustering\n",
                "kmeans_metrics = analyzer.evaluate_clustering(X_pca, kmeans_labels, y_true)\n",
                "\n",
                "print(\"K-Means Clustering Evaluation:\")\n",
                "for metric, value in kmeans_metrics.items():\n",
                "    print(f\"{metric}: {value:.4f}\")"
            ]
        },
        {
            "cell_type": "markdown",
            "metadata": {},
            "source": [
                "## 3. Hierarchical Clustering Analysis"
            ]
        },
        {
            "cell_type": "code",
            "execution_count": null,
            "metadata": {},
            "outputs": [],
            "source": [
                "# Perform hierarchical clustering\n",
                "print(\"Performing Hierarchical clustering analysis...\")\n",
                "hierarchical_results = analyzer.hierarchical_clustering(X_pca, n_clusters=3, linkage_method='ward')\n",
                "\n",
                "# Evaluate hierarchical clustering\n",
                "hierarchical_metrics = analyzer.evaluate_clustering(\n",
                "    X_pca, \n",
                "    hierarchical_results['cluster_labels'], \n",
                "    y_true\n",
                ")\n",
                "\n",
                "print(\"\\nHierarchical Clustering Evaluation:\")\n",
                "for metric, value in hierarchical_metrics.items():\n",
                "    print(f\"{metric}: {value:.4f}\")"
            ]
        },
        {
            "cell_type": "code",
            "execution_count": null,
            "metadata": {},
            "outputs": [],
            "source": [
                "# Plot dendrogram\n",
                "analyzer.plot_dendrogram(hierarchical_results)"
            ]
        },
        {
            "cell_type": "markdown",
            "metadata": {},
            "source": [
                "## 4. Clustering Visualization"
            ]
        },
        {
            "cell_type": "code",
            "execution_count": null,
            "metadata": {},
            "outputs": [],
            "source": [
                "# Visualize K-Means clusters\n",
                "print(\"K-Means Clustering Visualization:\")\n",
                "analyzer.plot_cluster_scatter(X_pca, kmeans_labels, y_true)"
            ]
        },
        {
            "cell_type": "code",
            "execution_count": null,
            "metadata": {},
            "outputs": [],
            "source": [
                "# Visualize Hierarchical clusters\n",
                "print(\"Hierarchical Clustering Visualization:\")\n",
                "analyzer.plot_cluster_scatter(X_pca, hierarchical_results['cluster_labels'], y_true)"
            ]
        },
        {
            "cell_type": "markdown",
            "metadata": {},
            "source": [
                "## 5. Comparison with True Labels"
            ]
        },
        {
            "cell_type": "code",
            "execution_count": null,
            "metadata": {},
            "outputs": [],
            "source": [
                "# Compare K-Means results with true labels\n",
                "print(\"K-Means vs True Labels Analysis:\")\n",
                "kmeans_comparison = analyzer.compare_with_true_labels(kmeans_labels, y_true)\n",
                "\n",
                "print(\"\\nCross-tabulation (K-Means):\")\n",
                "print(kmeans_comparison['crosstab'])\n",
                "\n",
                "print(f\"\\nAdjusted Rand Score: {kmeans_comparison['adjusted_rand_score']:.4f}\")"
            ]
        },
        {
            "cell_type": "code",
            "execution_count": null,
            "metadata": {},
            "outputs": [],
            "source": [
                "# Compare Hierarchical results with true labels\n",
                "print(\"Hierarchical vs True Labels Analysis:\")\n",
                "hierarchical_comparison = analyzer.compare_with_true_labels(\n",
                "    hierarchical_results['cluster_labels'], y_true\n",
                ")\n",
                "\n",
                "print(\"\\nCross-tabulation (Hierarchical):\")\n",
                "print(hierarchical_comparison['crosstab'])\n",
                "\n",
                "print(f\"\\nAdjusted Rand Score: {hierarchical_comparison['adjusted_rand_score']:.4f}\")"
            ]
        },
        {
            "cell_type": "markdown",
            "metadata": {},
            "source": [
                "## 6. Cluster Purity Analysis"
            ]
        },
        {
            "cell_type": "code",
            "execution_count": null,
            "metadata": {},
            "outputs": [],
            "source": [
                "# Analyze cluster purity for K-Means\n",
                "print(\"K-Means Cluster Purity Analysis:\")\n",
                "for cluster_id, purity_info in kmeans_comparison['cluster_purity'].items():\n",
                "    print(f\"Cluster {cluster_id}:\")\n",
                "    print(f\"  - Purity: {purity_info['purity']:.3f}\")\n",
                "    print(f\"  - Size: {purity_info['size']} samples\")\n",
                "    print(f\"  - Dominant Label: {purity_info['dominant_label']}\")\n",
                "    print()"
            ]
        },
        {
            "cell_type": "code",
            "execution_count": null,
            "metadata": {},
            "outputs": [],
            "source": [
                "# Analyze cluster purity for Hierarchical\n",
                "print(\"Hierarchical Cluster Purity Analysis:\")\n",
                "for cluster_id, purity_info in hierarchical_comparison['cluster_purity'].items():\n",
                "    print(f\"Cluster {cluster_id}:\")\n",
                "    print(f\"  - Purity: {purity_info['purity']:.3f}\")\n",
                "    print(f\"  - Size: {purity_info['size']} samples\")\n",
                "    print(f\"  - Dominant Label: {purity_info['dominant_label']}\")\n",
                "    print()"
            ]
        },
        {
            "cell_type": "markdown",
            "metadata": {},
            "source": [
                "## 7. Comprehensive Analysis and Comparison"
            ]
        },
        {
            "cell_type": "code",
            "execution_count": null,
            "metadata": {},
            "outputs": [],
            "source": [
                "# Create comparison summary\n",
                "comparison_summary = pd.DataFrame({\n",
                "    'Method': ['K-Means', 'Hierarchical'],\n",
                "    'Silhouette_Score': [\n",
                "        kmeans_metrics['silhouette_score'],\n",
                "        hierarchical_metrics['silhouette_score']\n",
                "    ],\n",
                "    'Adjusted_Rand_Score': [\n",
                "        kmeans_metrics['adjusted_rand_score'],\n",
                "        hierarchical_metrics['adjusted_rand_score']\n",
                "    ],\n",
                "    'N_Clusters': [\n",
                "        kmeans_metrics['n_clusters'],\n",
                "        hierarchical_metrics['n_clusters']\n",
                "    ],\n",
                "    'Inertia': [\n",
                "        kmeans_metrics['inertia'],\n",
                "        hierarchical_metrics['inertia']\n",
                "    ]\n",
                "})\n",
                "\n",
                "print(\"Clustering Methods Comparison:\")\n",
                "print(comparison_summary)"
            ]
        },
        {
            "cell_type": "code",
            "execution_count": null,
            "metadata": {},
            "outputs": [],
            "source": [
                "# Visualize comparison metrics\n",
                "fig, axes = plt.subplots(1, 2, figsize=(12, 5))\n",
                "\n",
                "# Silhouette scores\n",
                "methods = comparison_summary['Method']\n",
                "silhouette_scores = comparison_summary['Silhouette_Score']\n",
                "axes[0].bar(methods, silhouette_scores, color=['skyblue', 'lightcoral'])\n",
                "axes[0].set_title('Silhouette Score Comparison')\n",
                "axes[0].set_ylabel('Silhouette Score')\n",
                "axes[0].set_ylim(0, max(silhouette_scores) * 1.1)\n",
                "\n",
                "# Add value labels on bars\n",
                "for i, v in enumerate(silhouette_scores):\n",
                "    axes[0].text(i, v + 0.01, f'{v:.3f}', ha='center', va='bottom')\n",
                "\n",
                "# Adjusted Rand scores\n",
                "rand_scores = comparison_summary['Adjusted_Rand_Score']\n",
                "axes[1].bar(methods, rand_scores, color=['lightgreen', 'orange'])\n",
                "axes[1].set_title('Adjusted Rand Score Comparison')\n",
                "axes[1].set_ylabel('Adjusted Rand Score')\n",
                "axes[1].set_ylim(0, max(rand_scores) * 1.1)\n",
                "\n",
                "# Add value labels on bars\n",
                "for i, v in enumerate(rand_scores):\n",
                "    axes[1].text(i, v + 0.01, f'{v:.3f}', ha='center', va='bottom')\n",
                "\n",
                "plt.tight_layout()\n",
                "plt.show()"
            ]
        },
        {
            "cell_type": "markdown",
            "metadata": {},
            "source": [
                "## 8. Clustering on Original Features"
            ]
        },
        {
            "cell_type": "code",
            "execution_count": null,
            "metadata": {},
            "outputs": [],
            "source": [
                "# Compare clustering performance on original vs PCA features\n",
                "print(\"Clustering Analysis on Original Features:\")\n",
                "\n",
                "# K-Means on original features\n",
                "analyzer_original = ClusteringAnalyzer(random_state=42)\n",
                "X_original_scaled, _ = analyzer_original.prepare_clustering_data(cleaned_data, use_pca=False)\n",
                "\n",
                "kmeans_original_results = analyzer_original.kmeans_clustering(X_original_scaled, k_range=(2, 6))\n",
                "best_kmeans_original = kmeans_original_results['best_model']\n",
                "kmeans_original_labels = best_kmeans_original.predict(X_original_scaled)\n",
                "\n",
                "# Evaluate on original features\n",
                "kmeans_original_metrics = analyzer_original.evaluate_clustering(\n",
                "    X_original_scaled, kmeans_original_labels, y_true\n",
                ")\n",
                "\n",
                "print(\"\\nK-Means on Original Features:\")\n",
                "for metric, value in kmeans_original_metrics.items():\n",
                "    print(f\"{metric}: {value:.4f}\")"
            ]
        },
        {
            "cell_type": "code",
            "execution_count": null,
            "metadata": {},
            "outputs": [],
            "source": [
                "# Compare PCA vs Original features performance\n",
                "feature_comparison = pd.DataFrame({\n",
                "    'Features': ['PCA', 'Original'],\n",
                "    'Silhouette_Score': [\n",
                "        kmeans_metrics['silhouette_score'],\n",
                "        kmeans_original_metrics['silhouette_score']\n",
                "    ],\n",
                "    'Adjusted_Rand_Score': [\n",
                "        kmeans_metrics['adjusted_rand_score'],\n",
                "        kmeans_original_metrics['adjusted_rand_score']\n",
                "    ],\n",
                "    'N_Features': [X_pca.shape[1], X_original_scaled.shape[1]]\n",
                "})\n",
                "\n",
                "print(\"\\nPCA vs Original Features Comparison:\")\n",
                "print(feature_comparison)"
            ]
        },
        {
            "cell_type": "markdown",
            "metadata": {},
            "source": [
                "## 9. Save Results and Models"
            ]
        },
        {
            "cell_type": "code",
            "execution_count": null,
            "metadata": {},
            "outputs": [],
            "source": [
                "# Create cluster assignments dataframe\n",
                "cluster_assignments = pd.DataFrame({\n",
                "    'sample_id': range(len(y_true)),\n",
                "    'true_label': y_true,\n",
                "    'kmeans_cluster': kmeans_labels,\n",
                "    'hierarchical_cluster': hierarchical_results['cluster_labels'],\n",
                "    'kmeans_original_cluster': kmeans_original_labels\n",
                "})\n",
                "\n",
                "# Save cluster assignments\n",
                "os.makedirs('../results/clustering', exist_ok=True)\n",
                "cluster_assignments.to_csv('../results/clustering/cluster_assignments.csv', index=False)\n",
                "\n",
                "print(\"Cluster assignments saved to: ../results/clustering/cluster_assignments.csv\")\n",
                "print(\"\\nFirst 10 assignments:\")\n",
                "print(cluster_assignments.head(10))"
            ]
        },
        {
            "cell_type": "code",
            "execution_count": null,
            "metadata": {},
            "outputs": [],
            "source": [
                "# Save clustering models\n",
                "analyzer.save_models('../models/unsupervised')\n",
                "print(\"Clustering models saved successfully!\")"
            ]
        },
        {
            "cell_type": "markdown",
            "metadata": {},
            "source": [
                "## 10. Summary and Conclusions"
            ]
        },
        {
            "cell_type": "code",
            "execution_count": null,
            "metadata": {},
            "outputs": [],
            "source": [
                "print(\"UNSUPERVISED LEARNING ANALYSIS SUMMARY\")\n",
                "print(\"=\" * 50)\n",
                "\n",
                "print(f\"\\nDataset Information:\")\n",
                "print(f\"- Total Samples: {len(y_true)}\")\n",
                "print(f\"- PCA Features: {X_pca.shape[1]}\")\n",
                "print(f\"- Original Features: {X_original_scaled.shape[1]}\")\n",
                "print(f\"- True Classes: {len(np.unique(y_true))} (Heart Disease: No=0, Yes=1)\")\n",
                "\n",
                "print(f\"\\nBest Clustering Results:\")\n",
                "print(f\"- K-Means (PCA): Silhouette={kmeans_metrics['silhouette_score']:.3f}, ARI={kmeans_metrics['adjusted_rand_score']:.3f}\")\n",
                "print(f\"- Hierarchical (PCA): Silhouette={hierarchical_metrics['silhouette_score']:.3f}, ARI={hierarchical_metrics['adjusted_rand_score']:.3f}\")\n",
                "print(f\"- K-Means (Original): Silhouette={kmeans_original_metrics['silhouette_score']:.3f}, ARI={kmeans_original_metrics['adjusted_rand_score']:.3f}\")\n",
                "\n",
                "print(f\"\\nKey Findings:\")\n",
                "if kmeans_metrics['silhouette_score'] > hierarchical_metrics['silhouette_score']:\n",
                "    print(\"- K-Means clustering shows better internal cluster quality (silhouette score)\")\n",
                "else:\n",
                "    print(\"- Hierarchical clustering shows better internal cluster quality (silhouette score)\")\n",
                "\n",
                "if kmeans_metrics['adjusted_rand_score'] > hierarchical_metrics['adjusted_rand_score']:\n",
                "    print(\"- K-Means clustering aligns better with true heart disease labels\")\n",
                "else:\n",
                "    print(\"- Hierarchical clustering aligns better with true heart disease labels\")\n",
                "\n",
                "if kmeans_metrics['silhouette_score'] > kmeans_original_metrics['silhouette_score']:\n",
                "    print(\"- PCA features provide better clustering performance than original features\")\n",
                "else:\n",
                "    print(\"- Original features provide better clustering performance than PCA features\")\n",
                "\n",
                "print(f\"\\nRecommendations:\")\n",
                "print(\"- The clustering analysis reveals natural groupings in the heart disease data\")\n",
                "print(\"- Consider using clustering results as additional features for supervised learning\")\n",
                "print(\"- The moderate ARI scores suggest that heart disease patterns are complex\")\n",
                "print(\"- Further investigation of cluster characteristics could provide clinical insights\")\n",
                "\n",
                "print(\"\\nAnalysis completed successfully!\")"
            ]
        }
    ],
    "metadata": {
        "kernelspec": {
            "display_name": "Python 3",
            "language": "python",
            "name": "python3"
        },
        "language_info": {
            "codemirror_mode": {
                "name": "ipython",
                "version": 3
            },
            "file_extension": ".py",
            "mimetype": "text/x-python",
            "name": "python",
            "nbconvert_exporter": "python",
            "pygments_lexer": "ipython3",
            "version": "3.8.5"
        }
    },
    "nbformat": 4,
    "nbformat_minor": 4
}