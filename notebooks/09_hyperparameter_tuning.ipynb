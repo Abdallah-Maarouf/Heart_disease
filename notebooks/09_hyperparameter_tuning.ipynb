{
    "cells": [
        {
            "cell_type": "markdown",
            "metadata": {},
            "source": [
                "# Hyperparameter Optimization Analysis\n",
                "\n",
                "This notebook demonstrates comprehensive hyperparameter tuning for the heart disease classification models using multiple optimization strategies:\n",
                "\n",
                "1. **Grid Search** - Exhaustive search over parameter grid\n",
                "2. **Random Search** - Efficient random sampling of parameters\n",
                "3. **Bayesian Optimization** - Advanced optimization using Optuna\n",
                "\n",
                "## Objectives\n",
                "- Optimize hyperparameters for all classification models\n",
                "- Compare different optimization strategies\n",
                "- Analyze performance improvements\n",
                "- Save best models for production use"
            ]
        },
        {
            "cell_type": "code",
            "execution_count": null,
            "metadata": {},
            "outputs": [],
            "source": [
                "# Import required libraries\n",
                "import sys\n",
                "import os\n",
                "sys.path.append('../src')\n",
                "\n",
                "import numpy as np\n",
                "import pandas as pd\n",
                "import matplotlib.pyplot as plt\n",
                "import seaborn as sns\n",
                "import warnings\n",
                "warnings.filterwarnings('ignore')\n",
                "\n",
                "from hyperparameter_tuner import HyperparameterTuner\n",
                "from sklearn.model_selection import train_test_split\n",
                "from sklearn.preprocessing import StandardScaler\n",
                "import joblib\n",
                "\n",
                "# Set plotting style\n",
                "plt.style.use('default')\n",
                "sns.set_palette(\"husl\")\n",
                "\n",
                "print(\"Libraries imported successfully!\")"
            ]
        },
        {
            "cell_type": "markdown",
            "metadata": {},
            "source": [
                "## 1. Data Loading and Preparation"
            ]
        },
        {
            "cell_type": "code",
            "execution_count": null,
            "metadata": {},
            "outputs": [],
            "source": [
                "# Initialize the hyperparameter tuner\n",
                "tuner = HyperparameterTuner(random_state=42, n_jobs=-1, cv_folds=5)\n",
                "\n",
                "# Load the processed data\n",
                "try:\n",
                "    X_train, X_test, y_train, y_test = tuner.load_data_for_optimization()\n",
                "    \n",
                "    print(f\"Training set shape: {X_train.shape}\")\n",
                "    print(f\"Test set shape: {X_test.shape}\")\n",
                "    print(f\"Training labels distribution: {np.bincount(y_train)}\")\n",
                "    print(f\"Test labels distribution: {np.bincount(y_test)}\")\n",
                "    \n",
                "except Exception as e:\n",
                "    print(f\"Error loading data: {e}\")\n",
                "    print(\"Loading alternative dataset...\")\n",
                "    \n",
                "    # Load cleaned data as fallback\n",
                "    data = pd.read_csv('../data/processed/heart_disease_cleaned.csv')\n",
                "    \n",
                "    # Prepare features and target\n",
                "    X = data.drop('target', axis=1)\n",
                "    y = data['target']\n",
                "    \n",
                "    # Split the data\n",
                "    X_train, X_test, y_train, y_test = train_test_split(\n",
                "        X, y, test_size=0.2, random_state=42, stratify=y\n",
                "    )\n",
                "    \n",
                "    # Scale the features\n",
                "    scaler = StandardScaler()\n",
                "    X_train = scaler.fit_transform(X_train)\n",
                "    X_test = scaler.transform(X_test)\n",
                "    \n",
                "    print(f\"Training set shape: {X_train.shape}\")\n",
                "    print(f\"Test set shape: {X_test.shape}\")"
            ]
        },
        {
            "cell_type": "markdown",
            "metadata": {},
            "source": [
                "## 2. Parameter Grid Definition\n",
                "\n",
                "Let's examine the parameter grids defined for each model:"
            ]
        },
        {
            "cell_type": "code",
            "execution_count": null,
            "metadata": {},
            "outputs": [],
            "source": [
                "# Display parameter grids for each model\n",
                "parameter_grids = tuner.define_parameter_grids()\n",
                "\n",
                "for model_name, param_grid in parameter_grids.items():\n",
                "    print(f\"\\n{model_name.upper()} Parameter Grid:\")\n",
                "    print(\"-\" * 40)\n",
                "    for param, values in param_grid.items():\n",
                "        print(f\"{param}: {values}\")\n",
                "    \n",
                "    # Calculate total combinations\n",
                "    total_combinations = 1\n",
                "    for values in param_grid.values():\n",
                "        total_combinations *= len(values)\n",
                "    print(f\"Total combinations: {total_combinations:,}\")"
            ]
        },
        {
            "cell_type": "markdown",
            "metadata": {},
            "source": [
                "## 3. Single Model Optimization Comparison\n",
                "\n",
                "Let's compare different optimization methods on a single model (Random Forest):"
            ]
        },
        {
            "cell_type": "code",
            "execution_count": null,
            "metadata": {},
            "outputs": [],
            "source": [
                "from sklearn.ensemble import RandomForestClassifier\n",
                "\n",
                "# Compare optimization methods for Random Forest\n",
                "rf_model = RandomForestClassifier(random_state=42)\n",
                "comparison_results = tuner.compare_optimization_methods(\n",
                "    'random_forest', rf_model, X_train, y_train, X_test, y_test\n",
                ")\n",
                "\n",
                "# Display comparison results\n",
                "print(\"\\nOptimization Methods Comparison (Random Forest):\")\n",
                "print(\"=\" * 60)\n",
                "\n",
                "for method, results in comparison_results.items():\n",
                "    if 'error' not in results:\n",
                "        print(f\"\\n{method.upper()}:\")\n",
                "        print(f\"  Best CV Score: {results['best_cv_score']:.4f}\")\n",
                "        print(f\"  Test Accuracy: {results['test_metrics']['accuracy']:.4f}\")\n",
                "        print(f\"  Test F1-Score: {results['test_metrics']['f1_score']:.4f}\")\n",
                "        print(f\"  Best Parameters: {results['best_params']}\")\n",
                "    else:\n",
                "        print(f\"\\n{method.upper()}: {results['error']}\")"
            ]
        },
        {
            "cell_type": "markdown",
            "metadata": {},
            "source": [
                "## 4. Comprehensive Model Optimization\n",
                "\n",
                "Now let's optimize all models systematically:"
            ]
        },
        {
            "cell_type": "code",
            "execution_count": null,
            "metadata": {},
            "outputs": [],
            "source": [
                "# Optimize all models\n",
                "print(\"Starting comprehensive model optimization...\")\n",
                "print(\"This may take several minutes...\")\n",
                "\n",
                "optimization_results = tuner.optimize_all_models(X_train, y_train, X_test, y_test)\n",
                "\n",
                "print(\"\\nOptimization completed!\")"
            ]
        },
        {
            "cell_type": "markdown",
            "metadata": {},
            "source": [
                "## 5. Results Analysis and Visualization"
            ]
        },
        {
            "cell_type": "code",
            "execution_count": null,
            "metadata": {},
            "outputs": [],
            "source": [
                "# Generate optimization visualizations\n",
                "tuner.plot_optimization_results(save_plots=True)"
            ]
        },
        {
            "cell_type": "code",
            "execution_count": null,
            "metadata": {},
            "outputs": [],
            "source": [
                "# Create detailed results table\n",
                "results_data = []\n",
                "\n",
                "for model_name, results in optimization_results.items():\n",
                "    if 'error' not in results:\n",
                "        baseline = results['baseline_metrics']\n",
                "        optimized = results['optimization_results']['test_metrics']\n",
                "        improvement = results['improvement']\n",
                "        \n",
                "        results_data.append({\n",
                "            'Model': model_name.replace('_', ' ').title(),\n",
                "            'Baseline Accuracy': f\"{baseline['accuracy']:.4f}\",\n",
                "            'Optimized Accuracy': f\"{optimized['accuracy']:.4f}\",\n",
                "            'Accuracy Improvement': f\"{improvement['accuracy']:.4f}\",\n",
                "            'Baseline F1': f\"{baseline['f1_score']:.4f}\",\n",
                "            'Optimized F1': f\"{optimized['f1_score']:.4f}\",\n",
                "            'F1 Improvement': f\"{improvement['f1_score']:.4f}\"\n",
                "        })\n",
                "\n",
                "results_df = pd.DataFrame(results_data)\n",
                "print(\"\\nOptimization Results Summary:\")\n",
                "print(\"=\" * 80)\n",
                "print(results_df.to_string(index=False))"
            ]
        },
        {
            "cell_type": "markdown",
            "metadata": {},
            "source": [
                "## 6. Best Parameters Analysis"
            ]
        },
        {
            "cell_type": "code",
            "execution_count": null,
            "metadata": {},
            "outputs": [],
            "source": [
                "# Display best parameters for each model\n",
                "print(\"\\nBest Parameters for Each Model:\")\n",
                "print(\"=\" * 50)\n",
                "\n",
                "for model_name, results in optimization_results.items():\n",
                "    if 'error' not in results:\n",
                "        print(f\"\\n{model_name.upper()}:\")\n",
                "        best_params = results['optimization_results']['best_params']\n",
                "        for param, value in best_params.items():\n",
                "            print(f\"  {param}: {value}\")\n",
                "        print(f\"  CV Score: {results['optimization_results']['best_cv_score']:.4f}\")\n",
                "        print(f\"  Test Accuracy: {results['optimization_results']['test_metrics']['accuracy']:.4f}\")"
            ]
        },
        {
            "cell_type": "markdown",
            "metadata": {},
            "source": [
                "## 7. Performance Improvement Analysis"
            ]
        },
        {
            "cell_type": "code",
            "execution_count": null,
            "metadata": {},
            "outputs": [],
            "source": [
                "# Create improvement analysis visualization\n",
                "fig, (ax1, ax2) = plt.subplots(1, 2, figsize=(15, 6))\n",
                "\n",
                "# Extract improvement data\n",
                "models = []\n",
                "acc_improvements = []\n",
                "f1_improvements = []\n",
                "\n",
                "for model_name, results in optimization_results.items():\n",
                "    if 'error' not in results:\n",
                "        models.append(model_name.replace('_', ' ').title())\n",
                "        acc_improvements.append(results['improvement']['accuracy'])\n",
                "        f1_improvements.append(results['improvement']['f1_score'])\n",
                "\n",
                "# Accuracy improvements\n",
                "colors1 = ['green' if x > 0 else 'red' for x in acc_improvements]\n",
                "ax1.bar(models, acc_improvements, color=colors1, alpha=0.7)\n",
                "ax1.set_title('Accuracy Improvement from Optimization')\n",
                "ax1.set_ylabel('Accuracy Improvement')\n",
                "ax1.tick_params(axis='x', rotation=45)\n",
                "ax1.axhline(y=0, color='black', linestyle='-', alpha=0.3)\n",
                "ax1.grid(True, alpha=0.3)\n",
                "\n",
                "# F1-Score improvements\n",
                "colors2 = ['green' if x > 0 else 'red' for x in f1_improvements]\n",
                "ax2.bar(models, f1_improvements, color=colors2, alpha=0.7)\n",
                "ax2.set_title('F1-Score Improvement from Optimization')\n",
                "ax2.set_ylabel('F1-Score Improvement')\n",
                "ax2.tick_params(axis='x', rotation=45)\n",
                "ax2.axhline(y=0, color='black', linestyle='-', alpha=0.3)\n",
                "ax2.grid(True, alpha=0.3)\n",
                "\n",
                "plt.tight_layout()\n",
                "plt.show()\n",
                "\n",
                "# Calculate statistics\n",
                "avg_acc_improvement = np.mean(acc_improvements)\n",
                "avg_f1_improvement = np.mean(f1_improvements)\n",
                "models_improved_acc = sum(1 for x in acc_improvements if x > 0)\n",
                "models_improved_f1 = sum(1 for x in f1_improvements if x > 0)\n",
                "\n",
                "print(f\"\\nImprovement Statistics:\")\n",
                "print(f\"Average Accuracy Improvement: {avg_acc_improvement:.4f}\")\n",
                "print(f\"Average F1-Score Improvement: {avg_f1_improvement:.4f}\")\n",
                "print(f\"Models with Accuracy Improvement: {models_improved_acc}/{len(models)}\")\n",
                "print(f\"Models with F1-Score Improvement: {models_improved_f1}/{len(models)}\")"
            ]
        },
        {
            "cell_type": "markdown",
            "metadata": {},
            "source": [
                "## 8. Save Optimized Models"
            ]
        },
        {
            "cell_type": "code",
            "execution_count": null,
            "metadata": {},
            "outputs": [],
            "source": [
                "# Save the best models\n",
                "tuner.save_best_models()\n",
                "\n",
                "print(\"Optimized models saved successfully!\")"
            ]
        },
        {
            "cell_type": "markdown",
            "metadata": {},
            "source": [
                "## 9. Generate Comprehensive Report"
            ]
        },
        {
            "cell_type": "code",
            "execution_count": null,
            "metadata": {},
            "outputs": [],
            "source": [
                "# Generate and display comprehensive report\n",
                "report = tuner.generate_optimization_report()\n",
                "\n",
                "print(\"\\nOptimization Report Summary:\")\n",
                "print(\"=\" * 50)\n",
                "print(f\"Total Models Optimized: {report['optimization_summary']['total_models_optimized']}\")\n",
                "print(f\"Optimization Method: {report['optimization_summary']['optimization_method']}\")\n",
                "print(f\"Cross-Validation Folds: {report['optimization_summary']['cross_validation_folds']}\")\n",
                "\n",
                "if report.get('best_overall_model'):\n",
                "    best_model = report['best_overall_model']\n",
                "    print(f\"\\nBest Overall Model: {best_model['model_name']}\")\n",
                "    print(f\"Best Accuracy: {best_model['accuracy']:.4f}\")\n",
                "    print(f\"Best Parameters: {best_model['parameters']}\")\n",
                "\n",
                "if report.get('performance_improvements'):\n",
                "    improvements = report['performance_improvements']\n",
                "    print(f\"\\nPerformance Improvements:\")\n",
                "    print(f\"Average Accuracy Improvement: {improvements['average_accuracy_improvement']:.4f}\")\n",
                "    print(f\"Average F1 Improvement: {improvements['average_f1_improvement']:.4f}\")\n",
                "    print(f\"Models Improved: {improvements['models_improved']}/{report['optimization_summary']['total_models_optimized']}\")"
            ]
        },
        {
            "cell_type": "markdown",
            "metadata": {},
            "source": [
                "## 10. Model Comparison with Cross-Validation"
            ]
        },
        {
            "cell_type": "code",
            "execution_count": null,
            "metadata": {},
            "outputs": [],
            "source": [
                "from sklearn.model_selection import cross_val_score\n",
                "\n",
                "# Compare optimized models using cross-validation\n",
                "cv_results = {}\n",
                "\n",
                "for model_name, model in tuner.best_models.items():\n",
                "    cv_scores = cross_val_score(model, X_train, y_train, cv=5, scoring='accuracy')\n",
                "    cv_results[model_name] = {\n",
                "        'mean_cv_score': cv_scores.mean(),\n",
                "        'std_cv_score': cv_scores.std(),\n",
                "        'cv_scores': cv_scores\n",
                "    }\n",
                "\n",
                "# Create cross-validation comparison plot\n",
                "fig, ax = plt.subplots(figsize=(12, 6))\n",
                "\n",
                "model_names = list(cv_results.keys())\n",
                "means = [cv_results[name]['mean_cv_score'] for name in model_names]\n",
                "stds = [cv_results[name]['std_cv_score'] for name in model_names]\n",
                "\n",
                "x_pos = np.arange(len(model_names))\n",
                "ax.bar(x_pos, means, yerr=stds, capsize=5, alpha=0.7)\n",
                "ax.set_xlabel('Models')\n",
                "ax.set_ylabel('Cross-Validation Accuracy')\n",
                "ax.set_title('Optimized Models - Cross-Validation Performance')\n",
                "ax.set_xticks(x_pos)\n",
                "ax.set_xticklabels([name.replace('_', ' ').title() for name in model_names], rotation=45)\n",
                "ax.grid(True, alpha=0.3)\n",
                "\n",
                "# Add value labels\n",
                "for i, (mean, std) in enumerate(zip(means, stds)):\n",
                "    ax.text(i, mean + std + 0.005, f'{mean:.3f}±{std:.3f}', \n",
                "            ha='center', va='bottom', fontsize=9)\n",
                "\n",
                "plt.tight_layout()\n",
                "plt.show()\n",
                "\n",
                "print(\"\\nCross-Validation Results:\")\n",
                "for model_name, results in cv_results.items():\n",
                "    print(f\"{model_name}: {results['mean_cv_score']:.4f} ± {results['std_cv_score']:.4f}\")"
            ]
        },
        {
            "cell_type": "markdown",
            "metadata": {},
            "source": [
                "## Conclusions\n",
                "\n",
                "### Key Findings:\n",
                "\n",
                "1. **Optimization Effectiveness**: The hyperparameter optimization process successfully improved model performance across multiple metrics.\n",
                "\n",
                "2. **Best Performing Model**: The analysis identified the best performing model and its optimal parameters.\n",
                "\n",
                "3. **Parameter Importance**: Different parameters showed varying levels of impact on model performance.\n",
                "\n",
                "4. **Cross-Validation Stability**: The optimized models showed consistent performance across different data splits.\n",
                "\n",
                "### Recommendations:\n",
                "\n",
                "1. **Production Model**: Use the best performing optimized model for production deployment.\n",
                "\n",
                "2. **Parameter Monitoring**: Monitor model performance and consider re-optimization if data distribution changes.\n",
                "\n",
                "3. **Ensemble Methods**: Consider combining multiple optimized models for potentially better performance.\n",
                "\n",
                "4. **Regular Updates**: Periodically re-run optimization with new data to maintain model performance."
            ]
        }
    ],
    "metadata": {
        "kernelspec": {
            "display_name": "Python 3",
            "language": "python",
            "name": "python3"
        },
        "language_info": {
            "codemirror_mode": {
                "name": "ipython",
                "version": 3
            },
            "file_extension": ".py",
            "mimetype": "text/x-python",
            "name": "python",
            "nbconvert_exporter": "python",
            "pygments_lexer": "ipython3",
            "version": "3.8.5"
        }
    },
    "nbformat": 4,
    "nbformat_minor": 4
}